{
 "cells": [
  {
   "cell_type": "markdown",
   "metadata": {},
   "source": [
    "# Описание проекта\n",
    "\n",
    "Подготовьте прототип модели машинного обучения для «Цифры». Компания разрабатывает решения для эффективной работы промышленных предприятий.\n",
    "\n",
    "Модель должна предсказать коэффициент восстановления золота из золотосодержащей руды. В вашем распоряжении данные с параметрами добычи и очистки. \n",
    "\n",
    "Модель поможет оптимизировать производство, чтобы не запускать предприятие с убыточными характеристиками."
   ]
  },
  {
   "cell_type": "markdown",
   "metadata": {},
   "source": [
    "### Данные находятся в трёх файлах:\n",
    "1. gold_recovery_train.csv — обучающая выборка\n",
    "2. gold_recovery_test.csv — тестовая выборка\n",
    "3. gold_recovery_full.csv — исходные данные\n",
    "<br>\n",
    "<br>Данные индексируются датой и временем получения информации (признак date). Соседние по времени параметры часто похожи.\n",
    "<br>Некоторые параметры недоступны, потому что замеряются и/или рассчитываются значительно позже. Из-за этого в тестовой выборке отсутствуют некоторые признаки, которые могут быть в обучающей. Также в тестовом наборе нет целевых признаков.\n",
    "<br>\n",
    "<br>Исходный датасет содержит обучающую и тестовую выборки со всеми признаками.\n",
    "В вашем распоряжении сырые данные: их просто выгрузили из хранилища."
   ]
  },
  {
   "cell_type": "markdown",
   "metadata": {},
   "source": [
    "# 1. Подготовка данных"
   ]
  },
  {
   "cell_type": "code",
   "execution_count": 1,
   "metadata": {},
   "outputs": [
    {
     "name": "stdout",
     "output_type": "stream",
     "text": [
      "<class 'pandas.core.frame.DataFrame'>\n",
      "RangeIndex: 16860 entries, 0 to 16859\n",
      "Data columns (total 87 columns):\n",
      " #   Column                                              Non-Null Count  Dtype  \n",
      "---  ------                                              --------------  -----  \n",
      " 0   date                                                16860 non-null  object \n",
      " 1   final.output.concentrate_ag                         16788 non-null  float64\n",
      " 2   final.output.concentrate_pb                         16788 non-null  float64\n",
      " 3   final.output.concentrate_sol                        16490 non-null  float64\n",
      " 4   final.output.concentrate_au                         16789 non-null  float64\n",
      " 5   final.output.recovery                               15339 non-null  float64\n",
      " 6   final.output.tail_ag                                16794 non-null  float64\n",
      " 7   final.output.tail_pb                                16677 non-null  float64\n",
      " 8   final.output.tail_sol                               16715 non-null  float64\n",
      " 9   final.output.tail_au                                16794 non-null  float64\n",
      " 10  primary_cleaner.input.sulfate                       15553 non-null  float64\n",
      " 11  primary_cleaner.input.depressant                    15598 non-null  float64\n",
      " 12  primary_cleaner.input.feed_size                     16860 non-null  float64\n",
      " 13  primary_cleaner.input.xanthate                      15875 non-null  float64\n",
      " 14  primary_cleaner.output.concentrate_ag               16778 non-null  float64\n",
      " 15  primary_cleaner.output.concentrate_pb               16502 non-null  float64\n",
      " 16  primary_cleaner.output.concentrate_sol              16224 non-null  float64\n",
      " 17  primary_cleaner.output.concentrate_au               16778 non-null  float64\n",
      " 18  primary_cleaner.output.tail_ag                      16777 non-null  float64\n",
      " 19  primary_cleaner.output.tail_pb                      16761 non-null  float64\n",
      " 20  primary_cleaner.output.tail_sol                     16579 non-null  float64\n",
      " 21  primary_cleaner.output.tail_au                      16777 non-null  float64\n",
      " 22  primary_cleaner.state.floatbank8_a_air              16820 non-null  float64\n",
      " 23  primary_cleaner.state.floatbank8_a_level            16827 non-null  float64\n",
      " 24  primary_cleaner.state.floatbank8_b_air              16820 non-null  float64\n",
      " 25  primary_cleaner.state.floatbank8_b_level            16833 non-null  float64\n",
      " 26  primary_cleaner.state.floatbank8_c_air              16822 non-null  float64\n",
      " 27  primary_cleaner.state.floatbank8_c_level            16833 non-null  float64\n",
      " 28  primary_cleaner.state.floatbank8_d_air              16821 non-null  float64\n",
      " 29  primary_cleaner.state.floatbank8_d_level            16833 non-null  float64\n",
      " 30  rougher.calculation.sulfate_to_au_concentrate       16833 non-null  float64\n",
      " 31  rougher.calculation.floatbank10_sulfate_to_au_feed  16833 non-null  float64\n",
      " 32  rougher.calculation.floatbank11_sulfate_to_au_feed  16833 non-null  float64\n",
      " 33  rougher.calculation.au_pb_ratio                     15618 non-null  float64\n",
      " 34  rougher.input.feed_ag                               16778 non-null  float64\n",
      " 35  rougher.input.feed_pb                               16632 non-null  float64\n",
      " 36  rougher.input.feed_rate                             16347 non-null  float64\n",
      " 37  rougher.input.feed_size                             16443 non-null  float64\n",
      " 38  rougher.input.feed_sol                              16568 non-null  float64\n",
      " 39  rougher.input.feed_au                               16777 non-null  float64\n",
      " 40  rougher.input.floatbank10_sulfate                   15816 non-null  float64\n",
      " 41  rougher.input.floatbank10_xanthate                  16514 non-null  float64\n",
      " 42  rougher.input.floatbank11_sulfate                   16237 non-null  float64\n",
      " 43  rougher.input.floatbank11_xanthate                  14956 non-null  float64\n",
      " 44  rougher.output.concentrate_ag                       16778 non-null  float64\n",
      " 45  rougher.output.concentrate_pb                       16778 non-null  float64\n",
      " 46  rougher.output.concentrate_sol                      16698 non-null  float64\n",
      " 47  rougher.output.concentrate_au                       16778 non-null  float64\n",
      " 48  rougher.output.recovery                             14287 non-null  float64\n",
      " 49  rougher.output.tail_ag                              14610 non-null  float64\n",
      " 50  rougher.output.tail_pb                              16778 non-null  float64\n",
      " 51  rougher.output.tail_sol                             14611 non-null  float64\n",
      " 52  rougher.output.tail_au                              14611 non-null  float64\n",
      " 53  rougher.state.floatbank10_a_air                     16807 non-null  float64\n",
      " 54  rougher.state.floatbank10_a_level                   16807 non-null  float64\n",
      " 55  rougher.state.floatbank10_b_air                     16807 non-null  float64\n",
      " 56  rougher.state.floatbank10_b_level                   16807 non-null  float64\n",
      " 57  rougher.state.floatbank10_c_air                     16807 non-null  float64\n",
      " 58  rougher.state.floatbank10_c_level                   16814 non-null  float64\n",
      " 59  rougher.state.floatbank10_d_air                     16802 non-null  float64\n",
      " 60  rougher.state.floatbank10_d_level                   16809 non-null  float64\n",
      " 61  rougher.state.floatbank10_e_air                     16257 non-null  float64\n",
      " 62  rougher.state.floatbank10_e_level                   16809 non-null  float64\n",
      " 63  rougher.state.floatbank10_f_air                     16802 non-null  float64\n",
      " 64  rougher.state.floatbank10_f_level                   16802 non-null  float64\n",
      " 65  secondary_cleaner.output.tail_ag                    16776 non-null  float64\n",
      " 66  secondary_cleaner.output.tail_pb                    16764 non-null  float64\n",
      " 67  secondary_cleaner.output.tail_sol                   14874 non-null  float64\n",
      " 68  secondary_cleaner.output.tail_au                    16778 non-null  float64\n",
      " 69  secondary_cleaner.state.floatbank2_a_air            16497 non-null  float64\n",
      " 70  secondary_cleaner.state.floatbank2_a_level          16751 non-null  float64\n",
      " 71  secondary_cleaner.state.floatbank2_b_air            16705 non-null  float64\n",
      " 72  secondary_cleaner.state.floatbank2_b_level          16748 non-null  float64\n",
      " 73  secondary_cleaner.state.floatbank3_a_air            16763 non-null  float64\n",
      " 74  secondary_cleaner.state.floatbank3_a_level          16747 non-null  float64\n",
      " 75  secondary_cleaner.state.floatbank3_b_air            16752 non-null  float64\n",
      " 76  secondary_cleaner.state.floatbank3_b_level          16750 non-null  float64\n",
      " 77  secondary_cleaner.state.floatbank4_a_air            16731 non-null  float64\n",
      " 78  secondary_cleaner.state.floatbank4_a_level          16747 non-null  float64\n",
      " 79  secondary_cleaner.state.floatbank4_b_air            16768 non-null  float64\n",
      " 80  secondary_cleaner.state.floatbank4_b_level          16767 non-null  float64\n",
      " 81  secondary_cleaner.state.floatbank5_a_air            16775 non-null  float64\n",
      " 82  secondary_cleaner.state.floatbank5_a_level          16775 non-null  float64\n",
      " 83  secondary_cleaner.state.floatbank5_b_air            16775 non-null  float64\n",
      " 84  secondary_cleaner.state.floatbank5_b_level          16776 non-null  float64\n",
      " 85  secondary_cleaner.state.floatbank6_a_air            16757 non-null  float64\n",
      " 86  secondary_cleaner.state.floatbank6_a_level          16775 non-null  float64\n",
      "dtypes: float64(86), object(1)\n",
      "memory usage: 11.2+ MB\n"
     ]
    }
   ],
   "source": [
    "import pandas as pd\n",
    "df_train = pd.read_csv('gold_recovery_train.csv')\n",
    "df_test = pd.read_csv('gold_recovery_test.csv')\n",
    "df_train.info()"
   ]
  },
  {
   "cell_type": "code",
   "execution_count": 2,
   "metadata": {},
   "outputs": [
    {
     "data": {
      "text/plain": [
       "rougher.output.recovery               2573\n",
       "rougher.output.tail_ag                2250\n",
       "rougher.output.tail_sol               2249\n",
       "rougher.output.tail_au                2249\n",
       "secondary_cleaner.output.tail_sol     1986\n",
       "rougher.input.floatbank11_xanthate    1904\n",
       "final.output.recovery                 1521\n",
       "primary_cleaner.input.sulfate         1307\n",
       "primary_cleaner.input.depressant      1262\n",
       "rougher.calculation.au_pb_ratio       1242\n",
       "dtype: int64"
      ]
     },
     "execution_count": 2,
     "metadata": {},
     "output_type": "execute_result"
    }
   ],
   "source": [
    "df_train.isna().sum().sort_values(ascending=False).head(10) #кол-во пропусков в признаках"
   ]
  },
  {
   "cell_type": "markdown",
   "metadata": {},
   "source": [
    "### В обучающем наборе имеются пропуски, в основном у признаков, которые показывают эффективность обогащения и состав хвостов, после обогащения. Т.к. пропусков немного, относительно общего кол-ва признаков, то я просто удалю их и у нас еще останется достаточно данных, чтобы обучить и провалидировать модель."
   ]
  },
  {
   "cell_type": "code",
   "execution_count": 3,
   "metadata": {},
   "outputs": [],
   "source": [
    "df_train = df_train.dropna()"
   ]
  },
  {
   "cell_type": "code",
   "execution_count": 4,
   "metadata": {},
   "outputs": [
    {
     "data": {
      "text/plain": [
       "rougher.input.floatbank11_xanthate          353\n",
       "primary_cleaner.input.sulfate               302\n",
       "primary_cleaner.input.depressant            284\n",
       "rougher.input.floatbank10_sulfate           257\n",
       "primary_cleaner.input.xanthate              166\n",
       "rougher.input.floatbank10_xanthate          123\n",
       "rougher.input.feed_sol                       67\n",
       "rougher.input.floatbank11_sulfate            55\n",
       "rougher.input.feed_rate                      40\n",
       "secondary_cleaner.state.floatbank3_a_air     34\n",
       "dtype: int64"
      ]
     },
     "execution_count": 4,
     "metadata": {},
     "output_type": "execute_result"
    }
   ],
   "source": [
    "df_test.isna().sum().sort_values(ascending=False).head(10) #кол-во пропусков в признаках"
   ]
  },
  {
   "cell_type": "markdown",
   "metadata": {},
   "source": [
    "### По такому же принципу я удалю пропуски и из тестовой выборки."
   ]
  },
  {
   "cell_type": "code",
   "execution_count": 5,
   "metadata": {},
   "outputs": [],
   "source": [
    "df_test = df_test.dropna()"
   ]
  },
  {
   "cell_type": "markdown",
   "metadata": {},
   "source": [
    "## 1.2. Проверьте, что эффективность обогащения рассчитана правильно. Вычислите её на обучающей выборке для признака rougher.output.recovery. Найдите MAE между вашими расчётами и значением признака. Опишите выводы."
   ]
  },
  {
   "cell_type": "markdown",
   "metadata": {},
   "source": [
    "### для расчета MAE оставим только необходимые столбцы, сделаем для этого новый датасет:"
   ]
  },
  {
   "cell_type": "code",
   "execution_count": 6,
   "metadata": {},
   "outputs": [],
   "source": [
    "df_rougher_recovery_au = df_train[['rougher.input.feed_au','rougher.output.concentrate_au', 'rougher.output.tail_au','rougher.output.recovery']].copy()"
   ]
  },
  {
   "cell_type": "code",
   "execution_count": 7,
   "metadata": {},
   "outputs": [],
   "source": [
    "c = df_rougher_recovery_au['rougher.output.concentrate_au'] #доля золота в концентрате, после обогащения\n",
    "t = df_rougher_recovery_au['rougher.output.tail_au'] #доля золота в хвосте, после обогащения\n",
    "f = df_rougher_recovery_au['rougher.input.feed_au'] #доля золота в сырье до обогащения"
   ]
  },
  {
   "cell_type": "markdown",
   "metadata": {},
   "source": [
    "### добавим к этому датасету столбец с эффективность обогащения, посчитаному по формуле"
   ]
  },
  {
   "cell_type": "code",
   "execution_count": 8,
   "metadata": {},
   "outputs": [],
   "source": [
    "df_rougher_recovery_au['recovery_mae'] = (c*(f-t)) / (f*(c-t)) *100"
   ]
  },
  {
   "cell_type": "markdown",
   "metadata": {},
   "source": [
    "### воспользуемся библиотекой sklearn и посчитаем среднюю абсолютную ошибку между исходными данными и нашим рассчетом."
   ]
  },
  {
   "cell_type": "code",
   "execution_count": 9,
   "metadata": {},
   "outputs": [],
   "source": [
    "from sklearn.metrics import mean_absolute_error\n",
    "rec_1 = df_rougher_recovery_au['rougher.output.recovery']\n",
    "rec_2 = df_rougher_recovery_au['recovery_mae']"
   ]
  },
  {
   "cell_type": "code",
   "execution_count": 10,
   "metadata": {},
   "outputs": [
    {
     "data": {
      "text/plain": [
       "9.555596961987514e-15"
      ]
     },
     "execution_count": 10,
     "metadata": {},
     "output_type": "execute_result"
    }
   ],
   "source": [
    "mae = mean_absolute_error(rec_1, rec_2)\n",
    "mae"
   ]
  },
  {
   "cell_type": "markdown",
   "metadata": {},
   "source": [
    "### MAE = 9,5 * 10 (в степени минус 15), это значит, что мы имеем ошибку равную ОЧЕНЬ маленькому числу, которое можно считать равным нулю! Если я ничего не путаю, то это нуль с четырнадцатью нулями после запятой :), а следовательно значения объектов для признака rougher.output.recovery рассчитаны верно в тренировочном наборе данных!"
   ]
  },
  {
   "cell_type": "markdown",
   "metadata": {},
   "source": [
    "## 1.3. Проанализируйте признаки, недоступные в тестовой выборке. Что это за параметры? К какому типу относятся?"
   ]
  },
  {
   "cell_type": "markdown",
   "metadata": {},
   "source": [
    "### сначала обозначим переменные с признаками (списки)"
   ]
  },
  {
   "cell_type": "code",
   "execution_count": 11,
   "metadata": {},
   "outputs": [],
   "source": [
    "train_columns = df_train.columns #список с названиями признаков в обучающем датасете\n",
    "test_columns = df_test.columns #список с названиями признаков в тестовом датасете"
   ]
  },
  {
   "cell_type": "code",
   "execution_count": 12,
   "metadata": {},
   "outputs": [
    {
     "name": "stdout",
     "output_type": "stream",
     "text": [
      "кол-во признаков в df_train равно: 87\n",
      "кол-во признаков в df_test равно: 53\n"
     ]
    }
   ],
   "source": [
    "print('кол-во признаков в df_train равно:', len(train_columns))\n",
    "print('кол-во признаков в df_test равно:', len(test_columns))"
   ]
  },
  {
   "cell_type": "markdown",
   "metadata": {},
   "source": [
    "###  напишем цикл, который найдет нам в обучающей выборке признаки, которых нет в тестовой."
   ]
  },
  {
   "cell_type": "code",
   "execution_count": 13,
   "metadata": {},
   "outputs": [],
   "source": [
    "train_columns_more = [] # пустой список для добавления признаков\n",
    "for i in train_columns: # берем i признак из учебного датасета\n",
    "    if i not in test_columns: #проверяем этот признак на наличие в признаках тестового датасета и если его там нет, то...:\n",
    "        train_columns_more.append(i) #добавляем этот признак в наш пустой список"
   ]
  },
  {
   "cell_type": "code",
   "execution_count": 14,
   "metadata": {
    "scrolled": true
   },
   "outputs": [
    {
     "name": "stdout",
     "output_type": "stream",
     "text": [
      "кол-во признаков в train_columns_more равно: 34\n"
     ]
    }
   ],
   "source": [
    "print('кол-во признаков в train_columns_more равно:', len(train_columns_more))"
   ]
  },
  {
   "cell_type": "markdown",
   "metadata": {},
   "source": [
    "### 87 - 53 = 34, пока всё верно, недостающие в тестовой выборке признаки мы нашли, теперь надо на них посмотреть. Для этого создадим новый датафрейм, для которого из обучающего возьмем только вышеуказанные признаки"
   ]
  },
  {
   "cell_type": "code",
   "execution_count": 15,
   "metadata": {},
   "outputs": [],
   "source": [
    "#df_train.info()"
   ]
  },
  {
   "cell_type": "code",
   "execution_count": 16,
   "metadata": {},
   "outputs": [],
   "source": [
    "df_train_more = pd.DataFrame(data=df_train, columns=train_columns_more)"
   ]
  },
  {
   "cell_type": "code",
   "execution_count": 17,
   "metadata": {},
   "outputs": [],
   "source": [
    "#df_train_more.info()"
   ]
  },
  {
   "cell_type": "markdown",
   "metadata": {},
   "source": [
    "### В тестовой выборке нет признаков, которые являются \"выходными\" значениями (output) на всех этапах обработки руды, что вполне логично, т.к. тестировать модель надо именно на \"входящей информации\", а это значит, что нельзя использовать эти признаки (output) в обучении модели, т.е. в обучающем дата сете нужно убрать все признаки, которых нет в тестовом датасете. Все недостающие признаки имеют числовой тип float64"
   ]
  },
  {
   "cell_type": "markdown",
   "metadata": {},
   "source": [
    "### Подготовим тренировочную выборку, удалим из нее лишние признаки. Для этого я также напишу аналогичный цикл, но теперь буду оставлять только те столбцы, которые есть в тестовой выборке. Возможно это можно сделать быстрее и проще, но моих знаний хватило только на это :))"
   ]
  },
  {
   "cell_type": "code",
   "execution_count": 18,
   "metadata": {},
   "outputs": [],
   "source": [
    "df_train_little = [] # пустой список для добавления признаков\n",
    "\n",
    "for i in train_columns: # берем i признак из учебного датасета\n",
    "    if i in test_columns: #проверяем этот признак на наличие в признаках тестового датасета и если он там есть, то...:\n",
    "        df_train_little.append(i) #добавляем этот признак в наш пустой список"
   ]
  },
  {
   "cell_type": "markdown",
   "metadata": {},
   "source": [
    "### Добавим к списку c признаками название целевых признаков"
   ]
  },
  {
   "cell_type": "code",
   "execution_count": 19,
   "metadata": {},
   "outputs": [],
   "source": [
    "df_train_little = df_train_little + ['rougher.output.recovery','final.output.recovery']"
   ]
  },
  {
   "cell_type": "code",
   "execution_count": 20,
   "metadata": {},
   "outputs": [],
   "source": [
    "#df_train_little"
   ]
  },
  {
   "cell_type": "code",
   "execution_count": 21,
   "metadata": {},
   "outputs": [],
   "source": [
    "df_train = pd.DataFrame(data=df_train, columns=df_train_little)"
   ]
  },
  {
   "cell_type": "markdown",
   "metadata": {},
   "source": [
    "### Подтянем в тестовую выборку целевые признаки из полного датасета"
   ]
  },
  {
   "cell_type": "code",
   "execution_count": 22,
   "metadata": {},
   "outputs": [],
   "source": [
    "df_full = pd.read_csv('gold_recovery_full.csv')\n",
    "df_full = df_full.dropna()"
   ]
  },
  {
   "cell_type": "code",
   "execution_count": 23,
   "metadata": {},
   "outputs": [],
   "source": [
    "df_test = df_test.merge(df_full[['rougher.output.recovery','final.output.recovery','primary_cleaner.input.sulfate']], on='primary_cleaner.input.sulfate', how='left')"
   ]
  },
  {
   "cell_type": "markdown",
   "metadata": {},
   "source": [
    "### Еще раз дропним объекты с пропусками"
   ]
  },
  {
   "cell_type": "code",
   "execution_count": 24,
   "metadata": {},
   "outputs": [],
   "source": [
    "df_test = df_test.dropna()"
   ]
  },
  {
   "cell_type": "markdown",
   "metadata": {},
   "source": [
    "## Первичная обработка данных проведена, далее следует анализ данных, поэтому пока не буду готовить тренировочную выборку к обучению модели, сделаю это в 3-м пункте."
   ]
  },
  {
   "cell_type": "markdown",
   "metadata": {},
   "source": [
    "# 2. Анализ данных"
   ]
  },
  {
   "cell_type": "markdown",
   "metadata": {},
   "source": [
    "## 2.1. Посмотрите, как меняется концентрация металлов (Au, Ag, Pb) на различных этапах очистки. Опишите выводы."
   ]
  },
  {
   "cell_type": "markdown",
   "metadata": {},
   "source": [
    "### Для анализа воспользуемся полной выборкой и возьмём из нее только столбцы с концентрацией металлов. Чтобы не искать их вручную, напишем цикл."
   ]
  },
  {
   "cell_type": "code",
   "execution_count": 25,
   "metadata": {},
   "outputs": [],
   "source": [
    "metall = ['au','ag','pb']\n",
    "density = []\n",
    "for i in metall:              #берем i металл\n",
    "    for j in df_full.columns: #берем j столбец из нашей таблицы\n",
    "        if i in j:            #проверяем содержится ли название металла в названии столбца и если да, то\n",
    "            density.append(j) #добавляем этот столбец в наш список"
   ]
  },
  {
   "cell_type": "code",
   "execution_count": 26,
   "metadata": {},
   "outputs": [],
   "source": [
    "#df_full.median().head(60)"
   ]
  },
  {
   "cell_type": "markdown",
   "metadata": {},
   "source": [
    "### Соберем новый датафрейм с выбранными столбцами"
   ]
  },
  {
   "cell_type": "code",
   "execution_count": 27,
   "metadata": {},
   "outputs": [],
   "source": [
    "df_metall = pd.DataFrame(data=df_full, columns=density)"
   ]
  },
  {
   "cell_type": "markdown",
   "metadata": {},
   "source": [
    "### Удалим признаки с хвостами и калькуляциями"
   ]
  },
  {
   "cell_type": "code",
   "execution_count": 28,
   "metadata": {},
   "outputs": [],
   "source": [
    "df_metall = df_metall.drop(['final.output.tail_ag','final.output.tail_au','final.output.tail_pb','primary_cleaner.output.tail_ag','primary_cleaner.output.tail_au','primary_cleaner.output.tail_pb','rougher.calculation.au_pb_ratio','rougher.calculation.floatbank10_sulfate_to_au_feed','rougher.calculation.floatbank11_sulfate_to_au_feed','rougher.calculation.sulfate_to_au_concentrate','rougher.output.tail_ag','rougher.output.tail_au','rougher.output.tail_pb','secondary_cleaner.output.tail_ag','secondary_cleaner.output.tail_au','secondary_cleaner.output.tail_pb'], axis=1)"
   ]
  },
  {
   "cell_type": "markdown",
   "metadata": {},
   "source": [
    "### Для каждого металла сделаем отдельную таблицу"
   ]
  },
  {
   "cell_type": "code",
   "execution_count": 29,
   "metadata": {},
   "outputs": [],
   "source": [
    "df_metall_ag = df_metall[['rougher.input.feed_ag','rougher.output.concentrate_ag','primary_cleaner.output.concentrate_ag','final.output.concentrate_ag']]\n",
    "df_metall_au = df_metall[['rougher.input.feed_au','rougher.output.concentrate_au','primary_cleaner.output.concentrate_au','final.output.concentrate_au']]\n",
    "df_metall_pb = df_metall[['rougher.input.feed_pb','rougher.output.concentrate_pb','primary_cleaner.output.concentrate_pb','final.output.concentrate_pb']]"
   ]
  },
  {
   "cell_type": "code",
   "execution_count": 30,
   "metadata": {
    "scrolled": true
   },
   "outputs": [],
   "source": [
    "import matplotlib.pyplot as plt"
   ]
  },
  {
   "cell_type": "code",
   "execution_count": 31,
   "metadata": {},
   "outputs": [
    {
     "data": {
      "image/png": "[encoded data removed]",
      "text/plain": [
       "<Figure size 432x288 with 1 Axes>"
      ]
     },
     "metadata": {
      "needs_background": "light"
     },
     "output_type": "display_data"
    },
    {
     "data": {
      "image/png": "[encoded data removed]",
      "text/plain": [
       "<Figure size 432x288 with 1 Axes>"
      ]
     },
     "metadata": {
      "needs_background": "light"
     },
     "output_type": "display_data"
    },
    {
     "data": {
      "image/png": "[encoded data removed]",
      "text/plain": [
       "<Figure size 432x288 with 1 Axes>"
      ]
     },
     "metadata": {
      "needs_background": "light"
     },
     "output_type": "display_data"
    }
   ],
   "source": [
    "df_metall_ag.sum().plot(kind='bar', rot=60, color='green')\n",
    "plt.show()\n",
    "df_metall_au.sum().plot(kind='bar', rot=60, color='gold')\n",
    "plt.show()\n",
    "df_metall_pb.sum().plot(kind='bar', rot=60, color='blue')\n",
    "plt.show()"
   ]
  },
  {
   "cell_type": "markdown",
   "metadata": {},
   "source": [
    "## По графикам видно, что после обогащения повышается концентрация металлов, но далее можно наблюдать уже различное поведение. К примеру концентрация золота и свинца постепенно повышается после каждой последующей очистки, а концентрация серебра наоборот понижается. Следовательно можно сделать вывод, что производство настроено на максимальное сохранение золота из исходной руды. Свинец тоже хорошо сохраняется, вряд ли это делается специально, скорее просто такие погрешности производства, не думаю, что этот металл является ценным в промышленности)) А вот концентрация серебра снижается после каждой последующей очистки, но в целом, это снижение не такое критическое и также сязанно с погрешностями в стадиях очистки."
   ]
  },
  {
   "cell_type": "code",
   "execution_count": 32,
   "metadata": {},
   "outputs": [
    {
     "data": {
      "image/png": "[encoded data removed]",
      "text/plain": [
       "<Figure size 720x360 with 1 Axes>"
      ]
     },
     "metadata": {
      "needs_background": "light"
     },
     "output_type": "display_data"
    },
    {
     "data": {
      "image/png": "[encoded data removed]",
      "text/plain": [
       "<Figure size 720x360 with 1 Axes>"
      ]
     },
     "metadata": {
      "needs_background": "light"
     },
     "output_type": "display_data"
    },
    {
     "data": {
      "image/png": "[encoded data removed]",
      "text/plain": [
       "<Figure size 720x360 with 1 Axes>"
      ]
     },
     "metadata": {
      "needs_background": "light"
     },
     "output_type": "display_data"
    }
   ],
   "source": [
    "list_metal = ['au','ag','pb']\n",
    "for metal in list_metal:\n",
    "    rougher_output = 'rougher.output.concentrate_' + metal\n",
    "    primary_cleaner_output = 'primary_cleaner.output.concentrate_' + metal\n",
    "    final_output ='final.output.concentrate_' + metal\n",
    "    \n",
    "    (df_full[[rougher_output,\n",
    "                primary_cleaner_output, \n",
    "                final_output]]\n",
    "     .plot(kind='hist', bins=50, linewidth=3, alpha=0.7, figsize=(10, 5))\n",
    "    )\n",
    "    #границы осей\n",
    "#    plt.xlim(0,55)\n",
    "#    подписи осей графика\n",
    "    plt.xlabel('')\n",
    "    plt.ylabel('')\n",
    "#    заголовок\n",
    "    plt.title('Концентрация ' + metal + ' на различных этапах очистки')\n",
    "    plt.show()"
   ]
  },
  {
   "cell_type": "markdown",
   "metadata": {},
   "source": [
    "## 2.2. Сравните распределения размеров гранул сырья на обучающей и тестовой выборках. Если распределения сильно отличаются друг от друга, оценка модели будет неправильной."
   ]
  },
  {
   "cell_type": "markdown",
   "metadata": {},
   "source": [
    "### Для начала посмотрим на ящики с усами"
   ]
  },
  {
   "cell_type": "code",
   "execution_count": 33,
   "metadata": {},
   "outputs": [
    {
     "data": {
      "image/png": "[encoded data removed]",
      "text/plain": [
       "<Figure size 432x288 with 1 Axes>"
      ]
     },
     "metadata": {
      "needs_background": "light"
     },
     "output_type": "display_data"
    },
    {
     "data": {
      "image/png": "[encoded data removed]",
      "text/plain": [
       "<Figure size 432x288 with 1 Axes>"
      ]
     },
     "metadata": {
      "needs_background": "light"
     },
     "output_type": "display_data"
    }
   ],
   "source": [
    "df_train.boxplot(column='rougher.input.feed_size')\n",
    "plt.ylim(0,100)\n",
    "plt.show()\n",
    "df_test.boxplot(column='rougher.input.feed_size')\n",
    "plt.ylim(0,100) \n",
    "plt.show()"
   ]
  },
  {
   "cell_type": "markdown",
   "metadata": {},
   "source": [
    "### Судя по ящикам мы имеем довольно равные распределения. Единственное визуальное отличие, которое сразу видно, это отсутствие в тестовой выборке маленьких выбросов. Посмотрим на числовые показатели в  распределение данного признака с помощью функции describe() и посмотрим на гистограммы."
   ]
  },
  {
   "cell_type": "code",
   "execution_count": 34,
   "metadata": {},
   "outputs": [
    {
     "name": "stdout",
     "output_type": "stream",
     "text": [
      "count    11017.000000\n",
      "mean        57.215128\n",
      "std         18.913146\n",
      "min          9.659576\n",
      "25%         48.397242\n",
      "50%         53.843359\n",
      "75%         61.461770\n",
      "max        484.967466\n",
      "Name: rougher.input.feed_size, dtype: float64\n",
      "count    4981.000000\n",
      "mean       54.977301\n",
      "std        14.735167\n",
      "min         0.046369\n",
      "25%        43.822479\n",
      "50%        50.145364\n",
      "75%        61.704392\n",
      "max       190.837404\n",
      "Name: rougher.input.feed_size, dtype: float64\n"
     ]
    }
   ],
   "source": [
    "print(df_train['rougher.input.feed_size'].describe())\n",
    "print(df_test['rougher.input.feed_size'].describe())"
   ]
  },
  {
   "cell_type": "code",
   "execution_count": 35,
   "metadata": {
    "scrolled": true
   },
   "outputs": [
    {
     "data": {
      "text/plain": [
       "<matplotlib.axes._subplots.AxesSubplot at 0x7f0fe7be9790>"
      ]
     },
     "execution_count": 35,
     "metadata": {},
     "output_type": "execute_result"
    },
    {
     "data": {
      "image/png": "[encoded data removed]",
      "text/plain": [
       "<Figure size 504x288 with 1 Axes>"
      ]
     },
     "metadata": {
      "needs_background": "light"
     },
     "output_type": "display_data"
    }
   ],
   "source": [
    "df_train['rougher.input.feed_size'].hist(bins=10, range=(0, 100), figsize=(7, 4))\n",
    "df_test['rougher.input.feed_size'].hist(bins=10, range=(0, 100), figsize=(7, 4), alpha=0.5)"
   ]
  },
  {
   "cell_type": "markdown",
   "metadata": {},
   "source": [
    "## Гистограммы практически аналогичны, только в тестовой выборке меньше значений, поэтому и кол-во объектов на коричневой гистограмме меньше. Разумеется распределения имеют различия, но они незначительны и думаю, что проблем в обучении модели не возникнет."
   ]
  },
  {
   "cell_type": "markdown",
   "metadata": {},
   "source": [
    "## 2.3. Исследуйте суммарную концентрацию всех веществ на разных стадиях: в сырье, в черновом и финальном концентратах. Заметили аномальные значения в суммарном распределении или нет? Если они есть, стоит ли их удалять из обеих выборок? Опишите выводы и удалите аномалии."
   ]
  },
  {
   "cell_type": "markdown",
   "metadata": {},
   "source": [
    "###  Добавим колонки с суммарной концентрацией всех металлов на разных стадиях"
   ]
  },
  {
   "cell_type": "code",
   "execution_count": 36,
   "metadata": {},
   "outputs": [],
   "source": [
    "#df_full.info()"
   ]
  },
  {
   "cell_type": "code",
   "execution_count": 37,
   "metadata": {},
   "outputs": [],
   "source": [
    "# Концентрация в сырье\n",
    "df_full['rougher.input.feed_all'] = (\n",
    "df_full['rougher.input.feed_ag'] + \n",
    "df_full['rougher.input.feed_pb'] + \n",
    "df_full['rougher.input.feed_sol']+\n",
    "df_full['rougher.input.feed_au']\n",
    ")"
   ]
  },
  {
   "cell_type": "code",
   "execution_count": 38,
   "metadata": {},
   "outputs": [],
   "source": [
    "# Концентрация после обогащения\n",
    "df_full['rougher.output.concentrate_all'] = (\n",
    "df_full['rougher.output.concentrate_ag'] + \n",
    "df_full['rougher.output.concentrate_pb'] + \n",
    "df_full['rougher.output.concentrate_sol']+\n",
    "df_full['rougher.output.concentrate_au']\n",
    ")"
   ]
  },
  {
   "cell_type": "code",
   "execution_count": 39,
   "metadata": {},
   "outputs": [],
   "source": [
    "# Концентрация после 1-го этапа очистки\n",
    "df_full['primary_cleaner.output.concentrate_all'] = (\n",
    "df_full['primary_cleaner.output.concentrate_ag'] + \n",
    "df_full['primary_cleaner.output.concentrate_pb'] + \n",
    "df_full['primary_cleaner.output.concentrate_sol']+\n",
    "df_full['primary_cleaner.output.concentrate_au']\n",
    ")"
   ]
  },
  {
   "cell_type": "code",
   "execution_count": 40,
   "metadata": {},
   "outputs": [],
   "source": [
    "# финальная концентрация после 2-го этапа очистки\n",
    "df_full['final.output.concentrate_all'] = (\n",
    "df_full['final.output.concentrate_ag'] + \n",
    "df_full['final.output.concentrate_pb'] + \n",
    "df_full['final.output.concentrate_sol']+\n",
    "df_full['final.output.concentrate_au']\n",
    ")"
   ]
  },
  {
   "cell_type": "code",
   "execution_count": 41,
   "metadata": {},
   "outputs": [],
   "source": [
    "df_full_sum = df_full[['rougher.input.feed_all','rougher.output.concentrate_all','primary_cleaner.output.concentrate_all','final.output.concentrate_all']]"
   ]
  },
  {
   "cell_type": "code",
   "execution_count": 42,
   "metadata": {},
   "outputs": [
    {
     "data": {
      "text/html": [
       "<div>\n",
       "<style scoped>\n",
       "    .dataframe tbody tr th:only-of-type {\n",
       "        vertical-align: middle;\n",
       "    }\n",
       "\n",
       "    .dataframe tbody tr th {\n",
       "        vertical-align: top;\n",
       "    }\n",
       "\n",
       "    .dataframe thead th {\n",
       "        text-align: right;\n",
       "    }\n",
       "</style>\n",
       "<table border=\"1\" class=\"dataframe\">\n",
       "  <thead>\n",
       "    <tr style=\"text-align: right;\">\n",
       "      <th></th>\n",
       "      <th>rougher.input.feed_all</th>\n",
       "      <th>rougher.output.concentrate_all</th>\n",
       "      <th>primary_cleaner.output.concentrate_all</th>\n",
       "      <th>final.output.concentrate_all</th>\n",
       "    </tr>\n",
       "  </thead>\n",
       "  <tbody>\n",
       "    <tr>\n",
       "      <th>0</th>\n",
       "      <td>51.680034</td>\n",
       "      <td>66.424950</td>\n",
       "      <td>72.640924</td>\n",
       "      <td>63.644396</td>\n",
       "    </tr>\n",
       "    <tr>\n",
       "      <th>1</th>\n",
       "      <td>50.659114</td>\n",
       "      <td>67.012710</td>\n",
       "      <td>72.543485</td>\n",
       "      <td>63.957723</td>\n",
       "    </tr>\n",
       "    <tr>\n",
       "      <th>2</th>\n",
       "      <td>50.609929</td>\n",
       "      <td>66.103793</td>\n",
       "      <td>72.095042</td>\n",
       "      <td>64.311180</td>\n",
       "    </tr>\n",
       "    <tr>\n",
       "      <th>3</th>\n",
       "      <td>51.061546</td>\n",
       "      <td>65.752751</td>\n",
       "      <td>59.957723</td>\n",
       "      <td>63.573449</td>\n",
       "    </tr>\n",
       "    <tr>\n",
       "      <th>4</th>\n",
       "      <td>47.859163</td>\n",
       "      <td>65.908382</td>\n",
       "      <td>71.321010</td>\n",
       "      <td>64.004667</td>\n",
       "    </tr>\n",
       "    <tr>\n",
       "      <th>...</th>\n",
       "      <td>...</td>\n",
       "      <td>...</td>\n",
       "      <td>...</td>\n",
       "      <td>...</td>\n",
       "    </tr>\n",
       "    <tr>\n",
       "      <th>22711</th>\n",
       "      <td>53.415050</td>\n",
       "      <td>70.781325</td>\n",
       "      <td>59.001692</td>\n",
       "      <td>68.098589</td>\n",
       "    </tr>\n",
       "    <tr>\n",
       "      <th>22712</th>\n",
       "      <td>53.696482</td>\n",
       "      <td>70.539603</td>\n",
       "      <td>59.703912</td>\n",
       "      <td>68.274362</td>\n",
       "    </tr>\n",
       "    <tr>\n",
       "      <th>22713</th>\n",
       "      <td>54.589604</td>\n",
       "      <td>55.376330</td>\n",
       "      <td>59.561096</td>\n",
       "      <td>68.226068</td>\n",
       "    </tr>\n",
       "    <tr>\n",
       "      <th>22714</th>\n",
       "      <td>54.027355</td>\n",
       "      <td>69.201689</td>\n",
       "      <td>57.216686</td>\n",
       "      <td>68.200449</td>\n",
       "    </tr>\n",
       "    <tr>\n",
       "      <th>22715</th>\n",
       "      <td>53.535054</td>\n",
       "      <td>69.544003</td>\n",
       "      <td>55.748041</td>\n",
       "      <td>68.353154</td>\n",
       "    </tr>\n",
       "  </tbody>\n",
       "</table>\n",
       "<p>16094 rows × 4 columns</p>\n",
       "</div>"
      ],
      "text/plain": [
       "       rougher.input.feed_all  rougher.output.concentrate_all  \\\n",
       "0                   51.680034                       66.424950   \n",
       "1                   50.659114                       67.012710   \n",
       "2                   50.609929                       66.103793   \n",
       "3                   51.061546                       65.752751   \n",
       "4                   47.859163                       65.908382   \n",
       "...                       ...                             ...   \n",
       "22711               53.415050                       70.781325   \n",
       "22712               53.696482                       70.539603   \n",
       "22713               54.589604                       55.376330   \n",
       "22714               54.027355                       69.201689   \n",
       "22715               53.535054                       69.544003   \n",
       "\n",
       "       primary_cleaner.output.concentrate_all  final.output.concentrate_all  \n",
       "0                                   72.640924                     63.644396  \n",
       "1                                   72.543485                     63.957723  \n",
       "2                                   72.095042                     64.311180  \n",
       "3                                   59.957723                     63.573449  \n",
       "4                                   71.321010                     64.004667  \n",
       "...                                       ...                           ...  \n",
       "22711                               59.001692                     68.098589  \n",
       "22712                               59.703912                     68.274362  \n",
       "22713                               59.561096                     68.226068  \n",
       "22714                               57.216686                     68.200449  \n",
       "22715                               55.748041                     68.353154  \n",
       "\n",
       "[16094 rows x 4 columns]"
      ]
     },
     "execution_count": 42,
     "metadata": {},
     "output_type": "execute_result"
    }
   ],
   "source": [
    "df_full_sum"
   ]
  },
  {
   "cell_type": "markdown",
   "metadata": {},
   "source": [
    "### Построим гистограммы"
   ]
  },
  {
   "cell_type": "code",
   "execution_count": 43,
   "metadata": {
    "scrolled": true
   },
   "outputs": [
    {
     "data": {
      "text/plain": [
       "<matplotlib.axes._subplots.AxesSubplot at 0x7f0fe7bb3dd0>"
      ]
     },
     "execution_count": 43,
     "metadata": {},
     "output_type": "execute_result"
    },
    {
     "data": {
      "image/png": "[encoded data removed]",
      "text/plain": [
       "<Figure size 432x288 with 1 Axes>"
      ]
     },
     "metadata": {
      "needs_background": "light"
     },
     "output_type": "display_data"
    }
   ],
   "source": [
    "df_full_sum['rougher.input.feed_all'].hist(bins=100)\n",
    "df_full_sum['rougher.output.concentrate_all'].hist(bins=100, alpha=0.5)\n",
    "df_full_sum['primary_cleaner.output.concentrate_all'].hist(bins=100, alpha=0.5)\n",
    "df_full_sum['final.output.concentrate_all'].hist(bins=100, histtype='step', linewidth=2)"
   ]
  },
  {
   "cell_type": "markdown",
   "metadata": {},
   "source": [
    "- сырьё (синий)\n",
    "- после обогащения (оранжевый)\n",
    "- после 1-го этапа очистки (зеленый)\n",
    "- после 2-го этапа очистки (красный)\n"
   ]
  },
  {
   "cell_type": "markdown",
   "metadata": {},
   "source": [
    "### Есть небольшое кол-во выбросов, что вполне нормально, для наглядности можно поближе посмотреть на распределения, добавим параметр range)"
   ]
  },
  {
   "cell_type": "code",
   "execution_count": 44,
   "metadata": {},
   "outputs": [
    {
     "data": {
      "text/plain": [
       "<matplotlib.axes._subplots.AxesSubplot at 0x7f0fe7d8df90>"
      ]
     },
     "execution_count": 44,
     "metadata": {},
     "output_type": "execute_result"
    },
    {
     "data": {
      "image/png": "[encoded data removed]",
      "text/plain": [
       "<Figure size 432x288 with 1 Axes>"
      ]
     },
     "metadata": {
      "needs_background": "light"
     },
     "output_type": "display_data"
    }
   ],
   "source": [
    "df_full_sum['rougher.input.feed_all'].hist(bins=100, alpha=1, range=(40, 90))\n",
    "df_full_sum['rougher.output.concentrate_all'].hist(bins=100, alpha=0.9, range=(40, 90))\n",
    "df_full_sum['primary_cleaner.output.concentrate_all'].hist(bins=100, alpha=0.6, range=(40, 90))\n",
    "df_full_sum['final.output.concentrate_all'].hist(bins=100, histtype='step', linewidth=2, range=(40, 90))"
   ]
  },
  {
   "cell_type": "markdown",
   "metadata": {},
   "source": [
    "## Все распределения нормальные, есть выбросы, но это не критично, каких-то серьёзных аномалий в распределениях я не заметил :) Получившиеся гистограммы я могу интерпритировать следующим образом. После обогащения увеличиается концентрация металлов в исходном сырье, видимо поэтому этот процесс и называется \"обогащением\", после первого этапа очистки концентрация снижается, т.к. теряется часть металлов, а после второго этапа концентрация становится максимальной, т.к. по максимуму удаляются все ненужные материалы, при этом график сужается и вытягивается вверх, это говорит о том, что теряется разнообразие значений в распределении и уменьшается стандартное отклонение, наверно это тоже хорошо :)"
   ]
  },
  {
   "cell_type": "code",
   "execution_count": 45,
   "metadata": {},
   "outputs": [
    {
     "data": {
      "text/plain": [
       "count    16094.000000\n",
       "mean        68.805821\n",
       "std         12.095202\n",
       "min          0.000000\n",
       "25%         66.643291\n",
       "50%         70.701213\n",
       "75%         74.763404\n",
       "max         87.273435\n",
       "Name: rougher.output.concentrate_all, dtype: float64"
      ]
     },
     "execution_count": 45,
     "metadata": {},
     "output_type": "execute_result"
    }
   ],
   "source": [
    "df_full_sum['rougher.output.concentrate_all'].describe()"
   ]
  },
  {
   "cell_type": "code",
   "execution_count": 46,
   "metadata": {},
   "outputs": [
    {
     "data": {
      "text/plain": [
       "count    16094.000000\n",
       "mean        69.367841\n",
       "std          6.038211\n",
       "min          0.000000\n",
       "25%         68.372986\n",
       "50%         69.943177\n",
       "75%         71.669414\n",
       "max         80.210644\n",
       "Name: final.output.concentrate_all, dtype: float64"
      ]
     },
     "execution_count": 46,
     "metadata": {},
     "output_type": "execute_result"
    }
   ],
   "source": [
    "df_full_sum['final.output.concentrate_all'].describe()"
   ]
  },
  {
   "cell_type": "markdown",
   "metadata": {},
   "source": [
    "# 3. Модель"
   ]
  },
  {
   "cell_type": "markdown",
   "metadata": {},
   "source": [
    "##  Напишите функцию для вычисления итоговой sMAPE"
   ]
  },
  {
   "cell_type": "code",
   "execution_count": 47,
   "metadata": {},
   "outputs": [],
   "source": [
    "# import numpy\n",
    "# def smape(answer, predict):\n",
    "#     n = 0\n",
    "#     for i in range(len(answer)):\n",
    "#         s = (( abs(answer[i] - predict[i]) ) / ( ( abs(answer[i])  +  abs(predict[i]) ) / 2 )) * 100\n",
    "#         n += s\n",
    "#     k = n / len(answer)\n",
    "#     return k"
   ]
  },
  {
   "cell_type": "code",
   "execution_count": 48,
   "metadata": {},
   "outputs": [],
   "source": [
    "import numpy\n",
    "def smape(answer, predict):\n",
    "    s = ((( abs(answer - predict) ) / ( ( abs(answer)  +  abs(predict) ) / 2 )) * 100).sum() / len(answer)\n",
    "    return s"
   ]
  },
  {
   "cell_type": "markdown",
   "metadata": {},
   "source": [
    "#### заранее протестировал функцию на самопальных сериесах, кажется работает :)"
   ]
  },
  {
   "cell_type": "markdown",
   "metadata": {},
   "source": [
    "## 3.2. Обучите разные модели и оцените их качество кросс-валидацией. Выберите лучшую модель и проверьте её на тестовой выборке. Опишите выводы."
   ]
  },
  {
   "cell_type": "markdown",
   "metadata": {},
   "source": [
    "### Отделим целевые признаки"
   ]
  },
  {
   "cell_type": "code",
   "execution_count": 49,
   "metadata": {},
   "outputs": [],
   "source": [
    "features_train = df_train.drop(['rougher.output.recovery', 'final.output.recovery','date'], axis=1)\n",
    "target_train_rougher = df_train['rougher.output.recovery']\n",
    "target_train_final = df_train['final.output.recovery']\n",
    "features_test = df_test.drop(['rougher.output.recovery', 'final.output.recovery','date'], axis=1)\n",
    "target_test_rougher = df_test['rougher.output.recovery']\n",
    "target_test_final = df_test['final.output.recovery']"
   ]
  },
  {
   "cell_type": "markdown",
   "metadata": {},
   "source": [
    "### Масштабируем трейн и тест"
   ]
  },
  {
   "cell_type": "code",
   "execution_count": 50,
   "metadata": {},
   "outputs": [],
   "source": [
    "from sklearn.preprocessing import StandardScaler"
   ]
  },
  {
   "cell_type": "code",
   "execution_count": 51,
   "metadata": {},
   "outputs": [],
   "source": [
    "scaler = StandardScaler()\n",
    "scaler.fit(features_train)\n",
    "features_train = scaler.transform(features_train)\n",
    "scaler.fit(features_test)\n",
    "features_test = scaler.transform(features_test)"
   ]
  },
  {
   "cell_type": "markdown",
   "metadata": {},
   "source": [
    "## Линейная регрессия"
   ]
  },
  {
   "cell_type": "code",
   "execution_count": 52,
   "metadata": {},
   "outputs": [],
   "source": [
    "from sklearn.linear_model import LinearRegression\n",
    "model_rougher = LinearRegression()\n",
    "model_final = LinearRegression()"
   ]
  },
  {
   "cell_type": "code",
   "execution_count": 53,
   "metadata": {},
   "outputs": [
    {
     "name": "stdout",
     "output_type": "stream",
     "text": [
      "sMAPE модели предсказания эффективности флотации 11.614248071120688\n",
      "sMAPE модели предсказания эффективности финальной 10.52365288996994\n"
     ]
    }
   ],
   "source": [
    "from sklearn.model_selection import cross_val_score\n",
    "from sklearn.metrics import make_scorer\n",
    "\n",
    "score = make_scorer(smape, greater_is_better=True)\n",
    "\n",
    "roug = cross_val_score(model_rougher, features_train, target_train_rougher, cv=4, scoring=score)\n",
    "fin  = cross_val_score(model_final, features_train, target_train_final, cv=4, scoring=score)\n",
    "\n",
    "\n",
    "\n",
    "print('sMAPE модели предсказания эффективности флотации', (sum(roug) / 4))\n",
    "print('sMAPE модели предсказания эффективности финальной', (sum(fin) / 4))"
   ]
  },
  {
   "cell_type": "markdown",
   "metadata": {},
   "source": [
    "### Модель лин.регрессии ошибается на 10,5 - 11,6 %"
   ]
  },
  {
   "cell_type": "markdown",
   "metadata": {},
   "source": [
    "## Случайный лес"
   ]
  },
  {
   "cell_type": "code",
   "execution_count": 54,
   "metadata": {},
   "outputs": [],
   "source": [
    "from sklearn.ensemble import RandomForestRegressor\n",
    "model_rougher = RandomForestRegressor(random_state=12345, max_depth=4, n_estimators=20)\n",
    "model_final = RandomForestRegressor(random_state=12345, max_depth=4, n_estimators=20)"
   ]
  },
  {
   "cell_type": "code",
   "execution_count": 55,
   "metadata": {},
   "outputs": [],
   "source": [
    "score = make_scorer(smape, greater_is_better=True)\n",
    "\n",
    "roug = cross_val_score(model_rougher, features_train, target_train_rougher, cv=4, scoring=score)\n",
    "fin  = cross_val_score(model_final, features_train, target_train_final, cv=4, scoring=score)"
   ]
  },
  {
   "cell_type": "code",
   "execution_count": 56,
   "metadata": {},
   "outputs": [
    {
     "name": "stdout",
     "output_type": "stream",
     "text": [
      "sMAPE модели предсказания эффективности флотации 10.76259067910599\n",
      "sMAPE модели предсказания эффективности финальной 10.036365410253524\n"
     ]
    }
   ],
   "source": [
    "print('sMAPE модели предсказания эффективности флотации', (sum(roug) / 4))\n",
    "print('sMAPE модели предсказания эффективности финальной', (sum(fin) / 4))"
   ]
  },
  {
   "cell_type": "markdown",
   "metadata": {},
   "source": [
    "### Модель леса ошибается на 10 - 10,76 %"
   ]
  },
  {
   "cell_type": "markdown",
   "metadata": {},
   "source": [
    "### Перебёрем гипперпараметры леса в цикле и найдём лучшие:"
   ]
  },
  {
   "cell_type": "code",
   "execution_count": 57,
   "metadata": {},
   "outputs": [],
   "source": [
    "# for i in range(1,10):\n",
    "#     print('глубина дерева:', i)\n",
    "#     for j in range (1, 50 ,5):\n",
    "#         print('кол-во деревьев:', j)\n",
    "#         model_rougher = RandomForestRegressor(random_state=12345, max_depth=i, n_estimators=j)\n",
    "#         score = make_scorer(smape, greater_is_better=True)\n",
    "#         roug = cross_val_score(model_rougher, features_train, target_train_rougher, cv=4, scoring=score)\n",
    "#         print('sMAPE', (sum(roug) / 4))"
   ]
  },
  {
   "cell_type": "code",
   "execution_count": 58,
   "metadata": {},
   "outputs": [
    {
     "name": "stdout",
     "output_type": "stream",
     "text": [
      "sMAPE 10.64949885527654\n"
     ]
    }
   ],
   "source": [
    "# ЛУЧШАЯ МОДЕЛЬ\n",
    "model_rougher = RandomForestRegressor(random_state=12345, max_depth=3, n_estimators=46)\n",
    "score = make_scorer(smape, greater_is_better=True)\n",
    "roug = cross_val_score(model_rougher, features_train, target_train_rougher, cv=4, scoring=score)\n",
    "print('sMAPE', (sum(roug) / 4))"
   ]
  },
  {
   "cell_type": "code",
   "execution_count": 59,
   "metadata": {},
   "outputs": [],
   "source": [
    "# for i in range(1,10):\n",
    "#     print('глубина дерева:', i)\n",
    "#     for j in range (1, 50 ,5):\n",
    "#         print('кол-во деревьев:', j)\n",
    "#         model_final = RandomForestRegressor(random_state=12345, max_depth=i, n_estimators=j)\n",
    "#         score = make_scorer(smape, greater_is_better=True)\n",
    "#         fin  = cross_val_score(model_final, features_train, target_train_final, cv=4, scoring=score)\n",
    "#         print('sMAPE', (sum(fin) / 4))"
   ]
  },
  {
   "cell_type": "code",
   "execution_count": 60,
   "metadata": {},
   "outputs": [
    {
     "name": "stdout",
     "output_type": "stream",
     "text": [
      "sMAPE 8.76428387964919\n"
     ]
    }
   ],
   "source": [
    "# ЛУЧШАЯ МОДЕЛЬ\n",
    "model_final = RandomForestRegressor(random_state=12345, max_depth=1, n_estimators=46)\n",
    "score = make_scorer(smape, greater_is_better=True)\n",
    "fin  = cross_val_score(model_final, features_train, target_train_final, cv=4, scoring=score)\n",
    "print('sMAPE', (sum(fin) / 4))"
   ]
  },
  {
   "cell_type": "markdown",
   "metadata": {},
   "source": [
    "## Проверим модели на тестовой выборке"
   ]
  },
  {
   "cell_type": "code",
   "execution_count": 61,
   "metadata": {},
   "outputs": [
    {
     "name": "stdout",
     "output_type": "stream",
     "text": [
      "sMAPE rougher 9.980732376710902\n",
      "sMAPE final 8.930489701159523\n",
      "ИТОГОВОЕ sMAPE 9.193050370047368\n"
     ]
    }
   ],
   "source": [
    "model_rougher.fit(features_train, target_train_rougher)\n",
    "pred_rougher = model_rougher.predict(features_test)\n",
    "\n",
    "smape_r = smape(target_test_rougher, pred_rougher)\n",
    "print('sMAPE rougher', smape_r)\n",
    "\n",
    "model_final.fit(features_train, target_train_final)\n",
    "pred_final = model_final.predict(features_test)\n",
    "\n",
    "smape_f = smape(target_test_final, pred_final)\n",
    "print('sMAPE final', smape_f)\n",
    "\n",
    "smape_i = 0.25 * smape_r + 0.75 * smape_f\n",
    "print('ИТОГОВОЕ sMAPE', smape_i)"
   ]
  },
  {
   "cell_type": "markdown",
   "metadata": {},
   "source": [
    "## В среднем наши модели предсказывают c ошибкой не более 10%, звучит неплохо, но надо это с чем-то сравнить. Проверим модели на адекватность сравнив их c медианной моделью."
   ]
  },
  {
   "cell_type": "code",
   "execution_count": 62,
   "metadata": {},
   "outputs": [],
   "source": [
    "# Список из медианных значений\n",
    "target_test_rougher_median = [target_test_rougher.median() for i in range(len(target_test_rougher))]\n",
    "target_test_final_median = [target_test_final.median() for i in range(len(target_test_final))]\n",
    "# Превращаем его в Series\n",
    "pred_rougher_median = pd.Series(target_test_rougher_median)\n",
    "pred_final_median = pd.Series(target_test_final_median)"
   ]
  },
  {
   "cell_type": "code",
   "execution_count": 63,
   "metadata": {},
   "outputs": [
    {
     "name": "stdout",
     "output_type": "stream",
     "text": [
      "sMAPE rougher 7.38523875107867\n",
      "sMAPE final 7.221249474246829\n",
      "ИТОГОВОЕ sMAPE 7.262246793454789\n"
     ]
    }
   ],
   "source": [
    "smape_r_med = smape(target_test_rougher, pred_rougher_median)\n",
    "smape_f_med = smape(target_test_final, pred_final_median)\n",
    "print('sMAPE rougher', smape_r_med)\n",
    "print('sMAPE final', smape_f_med)\n",
    "smape_i_med = 0.25 * smape_r_med + 0.75 * smape_f_med\n",
    "print('ИТОГОВОЕ sMAPE', smape_i_med)"
   ]
  },
  {
   "cell_type": "markdown",
   "metadata": {},
   "source": [
    "## ВЫВОД: Мои модели - отстой :)! Константные модель, которая делается за 5 минут ошибается в предсказании меньше, чем мои модели сделанные потом и кровью) 7,26% против 9,19%. Либо я где-то ошибся в подготовке данных, либо плохо провёл обучение, либо данному бизнесу не нужен DS-специалист :)"
   ]
  }
 ],
 "metadata": {
  "kernelspec": {
   "display_name": "Python 3",
   "language": "python",
   "name": "python3"
  },
  "language_info": {
   "codemirror_mode": {
    "name": "ipython",
    "version": 3
   },
   "file_extension": ".py",
   "mimetype": "text/x-python",
   "name": "python",
   "nbconvert_exporter": "python",
   "pygments_lexer": "ipython3",
   "version": "3.7.6"
  }
 },
 "nbformat": 4,
 "nbformat_minor": 2
}
